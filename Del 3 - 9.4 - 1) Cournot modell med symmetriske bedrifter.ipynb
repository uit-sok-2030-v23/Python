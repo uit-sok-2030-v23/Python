{
 "cells": [
  {
   "cell_type": "markdown",
   "id": "960378ae-77ed-4d82-a657-959232c5588a",
   "metadata": {},
   "source": [
    "## Sok-2030 Næringsøkonomi og konkuransestrategi\n",
    "### Del 3 Oligopolmodeller\n",
    "Cournot modell med symmetriske bedrifter"
   ]
  },
  {
   "cell_type": "code",
   "execution_count": 1,
   "id": "95c90570-e404-4848-84d2-aaaa900a4d65",
   "metadata": {},
   "outputs": [],
   "source": [
    "import sympy as sp\n",
    "from sympy import *\n",
    "from matplotlib import pyplot as plt\n",
    "import numpy as np"
   ]
  },
  {
   "cell_type": "code",
   "execution_count": 2,
   "id": "522b545b-503b-468d-99f5-c7e5004fedfc",
   "metadata": {},
   "outputs": [],
   "source": [
    "q1, q2,c, A, B=symbols('q1 q2 c A B')"
   ]
  },
  {
   "cell_type": "code",
   "execution_count": 3,
   "id": "fce83595-a951-48f9-a57f-ed29186379f8",
   "metadata": {},
   "outputs": [],
   "source": [
    "def demand_1(q1):\n",
    "           return (A-B*q1-B*q2)"
   ]
  },
  {
   "cell_type": "code",
   "execution_count": 4,
   "id": "d07f1b3e-c799-49ac-b954-6dd51f7e7221",
   "metadata": {},
   "outputs": [],
   "source": [
    "def demand_2(q2):\n",
    "           return (A-B*q1-B*q2)"
   ]
  },
  {
   "cell_type": "code",
   "execution_count": 5,
   "id": "9530b40a-5f94-4e7e-ae70-a4e4362ffd4b",
   "metadata": {},
   "outputs": [],
   "source": [
    "def marginalrevenue_1(q1):\n",
    "    return (A-2*B*q1-B*q2)"
   ]
  },
  {
   "cell_type": "code",
   "execution_count": 6,
   "id": "3b5283ac-8968-4680-87c7-d57bf083ffb0",
   "metadata": {},
   "outputs": [],
   "source": [
    "def marginalrevenue_2(q2):\n",
    "    return (A-B*q1-2*B*q2)"
   ]
  },
  {
   "cell_type": "code",
   "execution_count": 7,
   "id": "cd0d0650-ce39-469e-9af4-3d419bebcebe",
   "metadata": {},
   "outputs": [
    {
     "data": {
      "text/latex": [
       "$\\displaystyle A - B q_{1} - 2 B q_{2} = c$"
      ],
      "text/plain": [
       "Eq(A - B*q1 - 2*B*q2, c)"
      ]
     },
     "execution_count": 7,
     "metadata": {},
     "output_type": "execute_result"
    }
   ],
   "source": [
    "q2=sp.symbols('q2', real=True, positive=True)\n",
    "q1=sp.symbols('q1', real=True, positive=True)\n",
    "equ=sp.Eq(marginalrevenue_2(q2),c)\n",
    "equ"
   ]
  },
  {
   "cell_type": "code",
   "execution_count": 19,
   "id": "d9ce98b1-78fa-4cd0-babc-0f83b5587118",
   "metadata": {},
   "outputs": [
    {
     "data": {
      "text/latex": [
       "$\\displaystyle \\frac{A - B q_{1} - c}{2 B}$"
      ],
      "text/plain": [
       "(A - B*q1 - c)/(2*B)"
      ]
     },
     "execution_count": 19,
     "metadata": {},
     "output_type": "execute_result"
    }
   ],
   "source": [
    "#reaksjonsfunksjon til bedrift 2\n",
    "q2_equ=sp.solve(equ,q2)[0]\n",
    "q2_equ"
   ]
  },
  {
   "cell_type": "code",
   "execution_count": 20,
   "id": "4663fc55-4829-461a-82ec-92da1c8b38a7",
   "metadata": {},
   "outputs": [
    {
     "data": {
      "text/latex": [
       "$\\displaystyle A - 2 B q_{1} - B q_{2} = c$"
      ],
      "text/plain": [
       "Eq(A - 2*B*q1 - B*q2, c)"
      ]
     },
     "execution_count": 20,
     "metadata": {},
     "output_type": "execute_result"
    }
   ],
   "source": [
    "q1=sp.symbols('q1', real=True, positive=True)\n",
    "equ=sp.Eq(marginalrevenue_1(q1),c)\n",
    "equ"
   ]
  },
  {
   "cell_type": "code",
   "execution_count": 21,
   "id": "d32b91e4-ead6-4b74-bdb3-bb89c29372ee",
   "metadata": {},
   "outputs": [
    {
     "data": {
      "text/latex": [
       "$\\displaystyle \\frac{A - B q_{2} - c}{2 B}$"
      ],
      "text/plain": [
       "(A - B*q2 - c)/(2*B)"
      ]
     },
     "execution_count": 21,
     "metadata": {},
     "output_type": "execute_result"
    }
   ],
   "source": [
    "#reaksjonsfunksjon til bedrift 1\n",
    "q1_equ=sp.solve(equ,q1)[0]\n",
    "q1_equ"
   ]
  },
  {
   "cell_type": "code",
   "execution_count": 22,
   "id": "47e3e7c9-ca9c-4c76-86f4-1bb57e79c0f8",
   "metadata": {},
   "outputs": [],
   "source": [
    "from sympy.solvers import solve"
   ]
  },
  {
   "cell_type": "code",
   "execution_count": 31,
   "id": "2a262d7b-f36a-4483-a088-3d36faf9284c",
   "metadata": {},
   "outputs": [],
   "source": [
    "q1,q2=sp.symbols(\"q1 q2\")\n",
    "symbols=[q1,q2]\n",
    "equations=[\n",
    "    sp.Eq((A-B*q2-c)/(2*B)-q1,0),\n",
    "    sp.Eq((A-B*q1-c)/(2*B)-q2,0)\n",
    "]"
   ]
  },
  {
   "cell_type": "code",
   "execution_count": null,
   "id": "15e599ec-bb27-46f7-a863-67c664b5eba5",
   "metadata": {},
   "outputs": [],
   "source": [
    "q1,q2=sp.symbols(\"q1 q2\")\n",
    "symbols=[q1,q2]\n",
    "equations=[\n",
    "    sp.Eq(5/2-0.5*q2-q1,0),\n",
    "    sp.Eq(2-0.5*q1-q2,0)"
   ]
  },
  {
   "cell_type": "code",
   "execution_count": 32,
   "id": "b07d53a7-ee6d-4551-ab3a-892b9cade7fa",
   "metadata": {},
   "outputs": [
    {
     "data": {
      "text/plain": [
       "{q1: (A - c)/(3*B), q2: (A - c)/(3*B)}"
      ]
     },
     "execution_count": 32,
     "metadata": {},
     "output_type": "execute_result"
    }
   ],
   "source": [
    "# Optimalt kvantum\n",
    "solve(equations,symbols)"
   ]
  },
  {
   "cell_type": "code",
   "execution_count": null,
   "id": "11128804-1598-4c19-9f7e-fa3539a81a0b",
   "metadata": {},
   "outputs": [],
   "source": []
  }
 ],
 "metadata": {
  "kernelspec": {
   "display_name": "Python 3 (ipykernel)",
   "language": "python",
   "name": "python3"
  },
  "language_info": {
   "codemirror_mode": {
    "name": "ipython",
    "version": 3
   },
   "file_extension": ".py",
   "mimetype": "text/x-python",
   "name": "python",
   "nbconvert_exporter": "python",
   "pygments_lexer": "ipython3",
   "version": "3.9.18"
  }
 },
 "nbformat": 4,
 "nbformat_minor": 5
}
